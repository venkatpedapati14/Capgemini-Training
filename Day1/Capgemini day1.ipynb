{
 "cells": [
  {
   "cell_type": "code",
   "execution_count": 1,
   "id": "62b5dfaf",
   "metadata": {},
   "outputs": [
    {
     "name": "stdout",
     "output_type": "stream",
     "text": [
      "welcome to capgemini\n"
     ]
    }
   ],
   "source": [
    "print(\"welcome to capgemini\")"
   ]
  },
  {
   "cell_type": "code",
   "execution_count": 4,
   "id": "f7255451",
   "metadata": {},
   "outputs": [
    {
     "name": "stdout",
     "output_type": "stream",
     "text": [
      "hello Srinu\n",
      "hello Srinu\n"
     ]
    }
   ],
   "source": [
    "first_name = \"Srinu\"\n",
    "print(f\"hello {first_name}\")\n",
    "print(\"hello {}\".format(first_name))"
   ]
  },
  {
   "cell_type": "code",
   "execution_count": 5,
   "id": "8b4c38e6",
   "metadata": {},
   "outputs": [
    {
     "name": "stdout",
     "output_type": "stream",
     "text": [
      "hello Srinu cyber\n"
     ]
    }
   ],
   "source": [
    "\n",
    "last_name = \"cyber\"\n",
    "print(f\"hello {first_name} {last_name}\")"
   ]
  },
  {
   "cell_type": "code",
   "execution_count": 6,
   "id": "1ca6501a",
   "metadata": {},
   "outputs": [
    {
     "name": "stdout",
     "output_type": "stream",
     "text": [
      "Srinu\n",
      "Siddipet\n",
      "6218\n",
      "502277\n",
      "Name:Srinu\n",
      "Address:Siddipet\n",
      "Phone:6218\n",
      "Pincode:502277\n"
     ]
    }
   ],
   "source": [
    "name=input()\n",
    "address=input()\n",
    "phone=input()\n",
    "pincode=input()\n",
    "print(f\"Name:{name}\")\n",
    "print(f\"Address:{address}\")\n",
    "print(f\"Phone:{phone}\")\n",
    "print(f\"Pincode:{pincode}\")"
   ]
  },
  {
   "cell_type": "code",
   "execution_count": 8,
   "id": "818ecd60",
   "metadata": {},
   "outputs": [
    {
     "name": "stdout",
     "output_type": "stream",
     "text": [
      "Name: Srinu\n"
     ]
    }
   ],
   "source": [
    "print(\"Name:\",name)"
   ]
  },
  {
   "cell_type": "code",
   "execution_count": 10,
   "id": "5c7a0e92",
   "metadata": {},
   "outputs": [
    {
     "name": "stdout",
     "output_type": "stream",
     "text": [
      "5\n",
      "10\n",
      "15\n"
     ]
    }
   ],
   "source": [
    "num1 = input()\n",
    "num2 = input()\n",
    "sum=int(num1)+int(num2)\n",
    "print(sum)"
   ]
  },
  {
   "cell_type": "code",
   "execution_count": 14,
   "id": "b7ef557b",
   "metadata": {},
   "outputs": [
    {
     "name": "stdout",
     "output_type": "stream",
     "text": [
      "255.0\n"
     ]
    }
   ],
   "source": [
    "n=255\n",
    "ans=n/10*10\n",
    "print(ans)"
   ]
  },
  {
   "cell_type": "code",
   "execution_count": 15,
   "id": "3a232514",
   "metadata": {},
   "outputs": [
    {
     "name": "stdout",
     "output_type": "stream",
     "text": [
      "250\n"
     ]
    }
   ],
   "source": [
    "n=int(255)\n",
    "ans=int(n//10*10)\n",
    "print(ans)"
   ]
  },
  {
   "cell_type": "code",
   "execution_count": 22,
   "id": "cb829492",
   "metadata": {},
   "outputs": [
    {
     "name": "stdout",
     "output_type": "stream",
     "text": [
      "5\n",
      "8\n",
      "6\n",
      "roots are imaginary\n"
     ]
    }
   ],
   "source": [
    "a=int(input())\n",
    "b=int(input())\n",
    "c=int(input())\n",
    "discriminant=(b*b)-(4*a*c)\n",
    "if(discriminant>0):\n",
    "    print(\"roots are real\")\n",
    "elif(discriminant==0):\n",
    "    print(\"roots are equal\")\n",
    "else:\n",
    "    print(\"roots are imaginary\")"
   ]
  },
  {
   "cell_type": "code",
   "execution_count": 24,
   "id": "c88498e6",
   "metadata": {},
   "outputs": [
    {
     "name": "stdout",
     "output_type": "stream",
     "text": [
      "Square root of 16: 4.0\n"
     ]
    }
   ],
   "source": [
    "import math\n",
    "number = 16\n",
    "result = math.sqrt(number)\n",
    "print(\"Square root of 16:\", result)"
   ]
  },
  {
   "cell_type": "code",
   "execution_count": 25,
   "id": "34941c2e",
   "metadata": {},
   "outputs": [
    {
     "name": "stdout",
     "output_type": "stream",
     "text": [
      "2 raised to the power 3: 8.0\n"
     ]
    }
   ],
   "source": [
    "base = 2\n",
    "exponent = 3\n",
    "result = math.pow(base, exponent)\n",
    "print(\"2 raised to the power 3:\", result)"
   ]
  },
  {
   "cell_type": "code",
   "execution_count": 26,
   "id": "36a69c29",
   "metadata": {},
   "outputs": [
    {
     "name": "stdout",
     "output_type": "stream",
     "text": [
      "Absolute value of -7: 7\n"
     ]
    }
   ],
   "source": [
    "number = -7\n",
    "result = abs(number)\n",
    "print(\"Absolute value of -7:\", result)"
   ]
  },
  {
   "cell_type": "code",
   "execution_count": 27,
   "id": "6fef2d2a",
   "metadata": {},
   "outputs": [
    {
     "name": "stdout",
     "output_type": "stream",
     "text": [
      "Sine of 30 degrees: 0.49999999999999994\n"
     ]
    }
   ],
   "source": [
    "import math\n",
    "angle = math.radians(30)\n",
    "result = math.sin(angle)\n",
    "print(\"Sine of 30 degrees:\", result)"
   ]
  },
  {
   "cell_type": "code",
   "execution_count": 28,
   "id": "b7e3fff6",
   "metadata": {},
   "outputs": [
    {
     "name": "stdout",
     "output_type": "stream",
     "text": [
      "Cosine of 60 degrees: 0.5000000000000001\n"
     ]
    }
   ],
   "source": [
    "angle = math.radians(60)\n",
    "result = math.cos(angle)\n",
    "print(\"Cosine of 60 degrees:\", result)"
   ]
  },
  {
   "cell_type": "code",
   "execution_count": 29,
   "id": "be670f27",
   "metadata": {},
   "outputs": [
    {
     "name": "stdout",
     "output_type": "stream",
     "text": [
      "Tangent of 45 degrees: 0.9999999999999999\n"
     ]
    }
   ],
   "source": [
    "angle = math.radians(45)\n",
    "result = math.tan(angle)\n",
    "print(\"Tangent of 45 degrees:\", result)"
   ]
  },
  {
   "cell_type": "code",
   "execution_count": 30,
   "id": "3ea04dfc",
   "metadata": {},
   "outputs": [
    {
     "name": "stdout",
     "output_type": "stream",
     "text": [
      "Natural logarithm of 10: 2.302585092994046\n"
     ]
    }
   ],
   "source": [
    "number = 10\n",
    "result = math.log(number)\n",
    "print(\"Natural logarithm of 10:\", result)"
   ]
  },
  {
   "cell_type": "code",
   "execution_count": 31,
   "id": "144ae934",
   "metadata": {},
   "outputs": [
    {
     "name": "stdout",
     "output_type": "stream",
     "text": [
      "Logarithm base 10 of 100: 2.0\n"
     ]
    }
   ],
   "source": [
    "result = math.log10(100)\n",
    "print(\"Logarithm base 10 of 100:\", result)"
   ]
  },
  {
   "cell_type": "code",
   "execution_count": 32,
   "id": "980e8e28",
   "metadata": {},
   "outputs": [
    {
     "name": "stdout",
     "output_type": "stream",
     "text": [
      "Value of Pi: 3.141592653589793\n"
     ]
    }
   ],
   "source": [
    "import math\n",
    "print(\"Value of Pi:\", math.pi)"
   ]
  },
  {
   "cell_type": "code",
   "execution_count": 33,
   "id": "2729fab1",
   "metadata": {},
   "outputs": [
    {
     "name": "stdout",
     "output_type": "stream",
     "text": [
      "Value of Euler's number (e): 2.718281828459045\n"
     ]
    }
   ],
   "source": [
    "print(\"Value of Euler's number (e):\", math.e)"
   ]
  },
  {
   "cell_type": "code",
   "execution_count": null,
   "id": "4afd81af",
   "metadata": {},
   "outputs": [],
   "source": []
  }
 ],
 "metadata": {
  "kernelspec": {
   "display_name": "Python 3 (ipykernel)",
   "language": "python",
   "name": "python3"
  },
  "language_info": {
   "codemirror_mode": {
    "name": "ipython",
    "version": 3
   },
   "file_extension": ".py",
   "mimetype": "text/x-python",
   "name": "python",
   "nbconvert_exporter": "python",
   "pygments_lexer": "ipython3",
   "version": "3.11.4"
  }
 },
 "nbformat": 4,
 "nbformat_minor": 5
}
